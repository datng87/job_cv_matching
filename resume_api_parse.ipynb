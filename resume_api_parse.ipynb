{
 "cells": [
  {
   "cell_type": "code",
   "execution_count": null,
   "metadata": {},
   "outputs": [],
   "source": [
    "import requests\n",
    "import io\n",
    "from config import *\n",
    "import re\n",
    "\n",
    "url = \"https://auth.emsicloud.com/connect/token\"\n",
    "\n",
    "payload = f\"client_id={client_id}&client_secret={client_secret}&grant_type={grant_type}&scope={scope}\"\n",
    "headers = {'Content-Type': 'application/x-www-form-urlencoded'}\n",
    "\n",
    "response = requests.request(\"POST\", url, data=payload, headers=headers)\n",
    "\n",
    "data = response.json()\n",
    "access_token = data['access_token']\n",
    "print(access_token)\n",
    "\n"
   ]
  },
  {
   "cell_type": "code",
   "execution_count": null,
   "metadata": {},
   "outputs": [],
   "source": [
    "url = \"https://emsiservices.com/skills/status\"\n",
    "\n",
    "headers = {'Authorization': f'Bearer {access_token}'}\n",
    "\n",
    "response = requests.request(\"GET\", url, headers=headers)\n",
    "\n",
    "data = response.json()\n",
    "\n",
    "print(data['data']['healthy'])"
   ]
  },
  {
   "cell_type": "code",
   "execution_count": null,
   "metadata": {},
   "outputs": [],
   "source": [
    "url = \"https://emsiservices.com/skills/versions/latest/extract\"\n",
    "\n",
    "querystring = {\"language\":\"en\"}\n",
    "\n",
    "# read file multiple lines\n",
    "file = './job_desc.txt'\n",
    "f = io.open(file, mode=\"r\", encoding=\"utf-8\")\n",
    "lines = f.readlines()\n",
    "f.close()\n",
    "# combine to 1 line\n",
    "mystr = '\\t'.join([line.strip() for line in lines])\n",
    "#remove special character\n",
    "payload=re.sub(r\"[^a-zA-Z0-9]+\", ' ', mystr)\n",
    "\n",
    "#payload = \"{ \\\"text\\\": \\\"...  Familiarity with modern CSS practices, e.g. LESS, SASS, CSS-in-JS ...\\\", \\\"confidenceThreshold\\\": 0.6 }\"\n",
    "data = '{\"text\":' + f'\\\"{payload}\\\"' + ',\"confidenceThreshold\": 0.8}'\n",
    "headers = {\n",
    "    'Authorization': f'Bearer {access_token}',\n",
    "    'Content-Type': \"application/json\"\n",
    "    }\n",
    "\n",
    "response = requests.request(\"POST\", url, data=data, headers=headers, params=querystring)\n",
    "\n",
    "data_job = response.json()\n",
    "skill_list = []\n",
    "\n",
    "for i in data_job['data']:\n",
    "    # skill_list.append(i['confidence'])\n",
    "    skill_list.append(i['skill']['name'])\n",
    "\n",
    "print(skill_list)\n",
    "\n",
    "# print(response.text)"
   ]
  },
  {
   "cell_type": "code",
   "execution_count": null,
   "metadata": {},
   "outputs": [],
   "source": [
    "print(response.headers)"
   ]
  }
 ],
 "metadata": {
  "kernelspec": {
   "display_name": "Python 3.9.7 ('base')",
   "language": "python",
   "name": "python3"
  },
  "language_info": {
   "codemirror_mode": {
    "name": "ipython",
    "version": 3
   },
   "file_extension": ".py",
   "mimetype": "text/x-python",
   "name": "python",
   "nbconvert_exporter": "python",
   "pygments_lexer": "ipython3",
   "version": "3.7.13"
  },
  "orig_nbformat": 4,
  "vscode": {
   "interpreter": {
    "hash": "4276d6f875b5564a19c1e0b40bd49530e0aba59dcf4a49dc6593e24b62a3701b"
   }
  }
 },
 "nbformat": 4,
 "nbformat_minor": 2
}
